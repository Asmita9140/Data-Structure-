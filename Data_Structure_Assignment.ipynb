{
  "nbformat": 4,
  "nbformat_minor": 0,
  "metadata": {
    "colab": {
      "provenance": []
    },
    "kernelspec": {
      "name": "python3",
      "display_name": "Python 3"
    },
    "language_info": {
      "name": "python"
    }
  },
  "cells": [
    {
      "cell_type": "markdown",
      "source": [
        "**THEORY** **QUESTION**"
      ],
      "metadata": {
        "id": "PODbC632nAg1"
      }
    },
    {
      "cell_type": "code",
      "source": [
        "#1. What are data structures, and why are they important?\n",
        "\n",
        "A data structure is a way of organizing, storing, and managing data in a computer so that it can be used efficiently. Data structures define how\n",
        "data is arranged in memory and how operations like insertion, deletion, searching, and sorting can be performed.\n",
        "\n",
        " Efficiency – They help in writing optimized code that runs faster and uses less memory.\n",
        " Better Data Organization – They provide a systematic way to store and manage large amounts of data.\n",
        " Scalability – Efficient data structures allow programs to handle increasing amounts of data effectively.\n",
        " Reusability – Many data structures are reusable, meaning they can be used in different applications.\n",
        " Essential for Algorithms – Many algorithms are based on data structures; choosing the right one can make a huge difference in performance.\n"
      ],
      "metadata": {
        "id": "y4_G6E7p7zmJ"
      },
      "execution_count": null,
      "outputs": []
    },
    {
      "cell_type": "code",
      "source": [
        "#2.  Explain the difference between mutable and immutable data types with examples?\n",
        "\n",
        "Data type in python are categorized into mutable and immutable data types. Mutable datas are once in which the vales can't be changed.\n",
        "Mutable data types are List, Dictionaries, and set.\n",
        "Immutable data types are Strings and Tuples.\n",
        "Example for Mutable Datatype\n",
        "my_list = [1,2,3,4]\n",
        "print(my_list)\n",
        "\n",
        "my_list.append(5)\n",
        "print(my_list)\n",
        "\n",
        "\n",
        "#Example for Immutable Datatype\n",
        "my_tuple = (1, 2, 3)\n",
        "print(my_tuple)\n",
        "\n",
        "my_tuple[0] = 10 #This will show error.\n"
      ],
      "metadata": {
        "colab": {
          "base_uri": "https://localhost:8080/"
        },
        "id": "5c9w4Idb5wnt",
        "outputId": "a596e9f0-c28f-41b6-c70f-8c881d29fbd1"
      },
      "execution_count": null,
      "outputs": [
        {
          "output_type": "stream",
          "name": "stdout",
          "text": [
            "[1, 2, 3, 4]\n",
            "[1, 2, 3, 4, 5]\n"
          ]
        }
      ]
    },
    {
      "cell_type": "code",
      "source": [
        "#3. What are the main differences between lists and tuples in Python?\n",
        "\n",
        "Both lists and tuples are used to store collections of items in Python, but they have key differences in terms of mutability, performance, andusage.\n",
        "\n",
        "LIST - List is a container that contains different types of objects. In it, the elements are separated by commas and stored within square brackets.\n",
        "Each element of a list has a unique position index, starting from 0. List is mutable which means its elements can be updated as per requirement.\n",
        "List iteration is slower and is time consuming. List consumes more memory. List provides many built-in methods.\n",
        "\n",
        "TUPLES - Tuple is also similar to a list but it contains immutable objects and they are stored within parentheses.\n",
        "Those objects that cannot be modified by any means are called as immutable. Tuple iteration is faster.\n",
        "Tuple is useful for read-only operations like accessing elements. Tuples consumes less memory.\n",
        "Tuples have less built-in methods as compare to list.\n",
        "\n"
      ],
      "metadata": {
        "id": "zkW7m5O5USIX"
      },
      "execution_count": null,
      "outputs": []
    },
    {
      "cell_type": "code",
      "source": [
        "#4. Describe how dictionaries store data?\n",
        "\n",
        "A dictionary in Python is an unordered collection of key-value pairs. Each key is unique, and each key maps to a value.\n",
        "Dictionary items are ordered, changeable, and do not allow duplicates.\n",
        "Dictionary items are presented in key:value pairs, and can be referred by using the key name. Keys must be immutable and unique.\n",
        "Dictionaries are changeable, meaning that we can change, add or remove items after the dictionary has been created.\n",
        "\n",
        "Example :\n",
        "my_dict = {'name': 'Aditi', 'age': 23, 'city': 'India'}"
      ],
      "metadata": {
        "id": "M1UcKPqt0MCo"
      },
      "execution_count": null,
      "outputs": []
    },
    {
      "cell_type": "code",
      "source": [
        "#5. Why might you use a set instead of a list in Python?\n",
        "\n",
        "In Python, both sets and lists are used to store collections of elements but they have key differences that make them suitable for different use\n",
        "cases. The main difference is that lists are ordered, meaning the order of elements is preserved and they can be accessed by their index while sets\n",
        "are unordered meaning they do not maintain the order of elements and automatically ensure all elements are unique.\n",
        "\n",
        "#LIST\n",
        "1. Ordered, elements are indexed and can be accessed via their index.\n",
        "2. Can contain duplicate elements.\n",
        "3. Mutable, elements can be added, removed, or changed.\n",
        "4. Support slicing, indexing, and various sequence operations.\n",
        "5. Use when you need to maintain the order of elements.\n",
        "   Suitable for tasks where elements are accessed by index.\n",
        "   Ideal for collections of items where duplicates are allowed.\n",
        "\n",
        "#SET\n",
        "1. Unordered, elements do not have a specific position.\n",
        "2. Contain only unique elements, automatically removing duplicates.\n",
        "3. Mutable, elements can be added or removed, but individual elements cannot be changed.\n",
        "4. Support mathematical operations like union, intersection, and difference.\n",
        "5. -Use when you need to ensure all elements are unique.\n",
        "   -Suitable for membership testing and eliminating duplicates.\n",
        "   -Ideal for mathematical set operations like union, intersection, and difference."
      ],
      "metadata": {
        "id": "Pg-w5rIW2K3x"
      },
      "execution_count": null,
      "outputs": []
    },
    {
      "cell_type": "code",
      "source": [
        "#6 What is a string in Python, and how is it different from a list?\n",
        "\n",
        "A string is a sequence of characters. Python treats anything inside quotes as a string. This includes letters, numbers, and symbols. Python has no\n",
        "character data type so single character is a string of length 1.\n",
        "Example:\n",
        "S = \"Rohan\"\n",
        "print(s)\n",
        "\n",
        "#Difference between string and list\n",
        "\n",
        "Strings are a sequence of characters and strings are Immutable (cannot be changed after creation).\n",
        "Strings are Enclosed in quotes (\" \" or ' ').\n",
        "Use case for strings are for working with text/characters.\n",
        "\n",
        "List are sequence of elements (can be any data type) and they are Mutable (can be changed, updated, or modified).\n",
        "List are Enclosed in square brackets ([ ]).\n",
        "Can contain mixed data types (int, str, float, etc.)\n",
        "Use case for list are for working with collections of multiple items.\n",
        "\n"
      ],
      "metadata": {
        "id": "7u82PXV_nyi1"
      },
      "execution_count": null,
      "outputs": []
    },
    {
      "cell_type": "code",
      "source": [
        "#7 How do tuples ensure data integrity in Python?\n",
        "\n",
        "Tuples ensure data integrity in Python primarily through immutability.\n",
        "\n",
        "Immutability: Once a tuple is created, its elements cannot be changed, added, or removed.\n",
        "This prevents accidental modifications, ensuring the data remains intact throughout program execution.\n",
        "Since tuples are immutable, they can be used as keys in dictionaries and elements in sets, ensuring that they remain consistent and unchanged.\n",
        "This helps maintain integrity in data structures that rely on uniqueness.\n",
        "\n",
        "Performance Optimization: Python optimizes tuple storage, making them more memory-efficient than lists.\n",
        "This efficiency can help maintain performance when dealing with large datasets that shouldn’t change."
      ],
      "metadata": {
        "id": "tu4eH7hTsr3d"
      },
      "execution_count": null,
      "outputs": []
    },
    {
      "cell_type": "code",
      "source": [
        "#8. What is a hash table, and how does it relate to dictionaries in Python?\n",
        "\n",
        "A hash table is a data structure that stores key-value pairs and uses a hash function to map keys to positions (or slots) in memory.\n",
        "The hash function converts the key into a hash value (an integer).\n",
        "That hash value is then used to quickly find where the associated value is stored.\n",
        "Hash tables are designed for fast lookup, insertion, and deletion — typically in O(1) time on average.\n",
        "\n",
        "#In Python, a dictionary is implemented internally using a hash table.\n",
        "\n",
        "When you store a key-value pair in a dictionary, Python calls hash(key) to get the key’s hash value.\n",
        "The hash value determines the index (slot) in the hash table where the value should be stored.\n",
        "If two keys end up with the same slot (collision), Python uses probing to find the next free slot.\n",
        "When you access my_dict[key], Python hashes the key again and directly looks up the value in the appropriate slot — making retrieval very fast.\n",
        "\n",
        "Why it is important to use hash tables in Python?\n",
        "\n",
        "Dictionary operations like lookup, insert, and delete are all extremely fast because of hash table efficiency.\n",
        "But keys must be immutable and hashable to ensure they don’t change and break the hash-based lookup.\n",
        "A hash table is the underlying data structure that makes Python dictionaries fast and efficient by storing keys using their hash values.\n",
        "\n"
      ],
      "metadata": {
        "id": "TUHOkufxuW9c"
      },
      "execution_count": null,
      "outputs": []
    },
    {
      "cell_type": "code",
      "source": [
        "#9. Can lists contain different data types in Python?\n",
        "\n",
        "Yes in python lists can contain different data types.\n",
        "Lists are heterogeneous, meaning they can store elements of different data types in the same list.\n",
        "\n",
        "Example:\n",
        "my_list = [10, \"hello\", 3.14, True, [1, 2, 3], (4, 5), {\"key\": \"value\"}]\n",
        "print(my_list)\n",
        "\n",
        "List can caotain different data types like integer, string, float, boolean, list, tuple, and dictionary.\n",
        "Store mixed types for related but diverse data. Useful when dealing with varied data (e.g., JSON responses).\n",
        "Python lists can and often do contain multiple data types, making them highly flexible and powerful for dynamic data handling.\n"
      ],
      "metadata": {
        "id": "S-ylT75tvzer"
      },
      "execution_count": null,
      "outputs": []
    },
    {
      "cell_type": "code",
      "source": [
        "#10. Explain why strings are immutable in Python.\n",
        "\n",
        "In Python, strings are immutable, meaning once you create a string, you cannot change its content. Instead, any modification creates a new string.\n",
        "Immutable objects are stored in memory in a way that allows reusing existing string values (called string interning).This reduces memory usage and\n",
        "speeds up comparisons. Immutable strings can be hashed and used as keys in dictionaries or as elements in sets.\n",
        "Because strings can’t be changed, they are safe to share across threads without the risk of unexpected modifications.\n",
        "Immutable strings ensure that when you pass a string to a function or store it in a structure, it won’t accidentally change somewhere else.\n",
        "\n",
        "#Example:\n",
        "text = \"hello\"\n",
        "\n",
        "new_text = 'H' + text[1:]\n",
        "print(new_text)\n",
        "\n",
        "Strings are immutable in Python to ensure safety, memory efficiency, and predictable behavior.\n"
      ],
      "metadata": {
        "id": "8zxMM4jLv5QY"
      },
      "execution_count": null,
      "outputs": []
    },
    {
      "cell_type": "code",
      "source": [
        "#11. What advantages do dictionaries offer over lists for certain tasks?\n",
        "\n",
        "Dictionaries offer several advantages over lists for certain tasks.\n",
        "\n",
        "Key-Value Pair Storage – Unlike lists, dictionaries store data as key-value pairs, making it easy to associate and retrieve related information.\n",
        "Uniqueness of Keys – Dictionary keys must be unique, preventing duplicate entries, whereas lists can have duplicate values.\n",
        "Efficient Membership Testing – Checking if a key exists in a dictionary (key in dict) is much faster than checking if an element exists in a list\n",
        "(value in list).\n",
        "Better Data Organization – Dictionaries allow structured data storage, making them ideal for tasks like mapping names to phone numbers or storing\n",
        "configuration settings.\n",
        "Flexible and Readable Code – Using descriptive keys makes the code more readable compared to using list indices, which can be hard to interpret.\n",
        "Memory Efficiency for Sparse Data – If you need to store sparse data (e.g., only a few non-default values out of many possible entries), dictionaries\n",
        "can be more memory-efficient than lists.\n"
      ],
      "metadata": {
        "id": "BPQitqLdyA9n"
      },
      "execution_count": null,
      "outputs": []
    },
    {
      "cell_type": "code",
      "source": [
        "#12.  Describe a scenario where using a tuple would be preferable over a list.\n",
        "\n",
        "A tuple is preferable over a list when immutability is required, meaning the data should remain constant throughout the program.\n",
        "Suppose you're developing a Python application that connects to a database. You have sensitive information like the database host, port, username,\n",
        "and password that should not be accidentally modified during execution.\n",
        "\n",
        "# Using a tuple to store database credentials\n",
        "DB_CREDENTIALS = (\"localhost\", 5432, \"admin\", \"securepassword\")\n",
        "\n",
        "# Function to connect to the database\n",
        "def connect_to_db(credentials):\n",
        "    host, port, user, password = credentials\n",
        "    print(f\"Connecting to database at {host}:{port} with user {user}\")\n",
        "\n",
        "connect_to_db(DB_CREDENTIALS)\n",
        "\n",
        "\n"
      ],
      "metadata": {
        "id": "rQgKe29QaV_S"
      },
      "execution_count": null,
      "outputs": []
    },
    {
      "cell_type": "code",
      "source": [
        "#13. How do sets handle duplicate values in Python?\n",
        "\n",
        "In Python, sets automatically remove duplicate values. When you add elements to a set, it only stores unique values, discarding any duplicates.\n",
        "\n",
        "my_set = {1, 2, 2, 3, 4, 4, 5}\n",
        "print(my_set)\n",
        "\n",
        "#{1, 2, 3, 4, 5}\n",
        "\n",
        "Even though 2 and 4 were added multiple times, the set only retains unique values.\n",
        "Unordered: The elements don’t maintain a specific order.\n",
        "Immutable Elements: Set elements must be immutable (e.g., numbers, strings, tuples), so lists and dictionaries can't be set elements.\n",
        "Fast Membership Testing: Checking if an element exists (x in my_set) is efficient.\n"
      ],
      "metadata": {
        "id": "pI1sQrPjekEj"
      },
      "execution_count": null,
      "outputs": []
    },
    {
      "cell_type": "code",
      "source": [
        "#14. How does the “in” keyword work differently for lists and dictionaries?\n",
        "\n",
        "The in keyword is used to check for membership in both lists and dictionaries, but it works differently for each.\n",
        "\n",
        "For Lists-\n",
        "It checks whether a specific value exists in the list.\n",
        "It iterates through all elements to find a match.\n",
        "\n",
        "numbers = [1, 2, 3, 4, 5]\n",
        "print(3 in numbers)  # True\n",
        "print(10 in numbers) # False\n",
        "\n",
        "For Dictionaries-\n",
        "It checks whether a key (not a value) exists in the dictionary.\n",
        "It does not check for values unless explicitly specified.\n",
        "\n",
        "person = {\"name\": \"Priya\", \"age\": 25, \"city\": \"Bengaluru\"}\n",
        "print(\"name\" in person)   # True (because \"name\" is a key)\n",
        "print(\"Priya\" in person)  # False (because \"Priya\" is a value, not a key)\n"
      ],
      "metadata": {
        "id": "Mt9tENSEfbwW"
      },
      "execution_count": null,
      "outputs": []
    },
    {
      "cell_type": "code",
      "source": [
        "#15. Can you modify the elements of a tuple? Explain why or why not?\n",
        "\n",
        "No, you cannot modify the elements of a tuple in Python because tuples are immutable. This means that once a tuple is created, its elements cannot\n",
        "be changed, added, or removed.\n",
        "\n",
        "Memory Efficiency – Tuples take up less memory compared to lists, making them faster in certain operations.\n",
        "Hashability – Since tuples are immutable, they can be used as keys in dictionaries (if they contain only hashable elements).\n",
        "Data Integrity – Tuples ensure that their contents remain constant, preventing accidental modifications.\n",
        "\n",
        "my_tuple = (1, 2, 3)\n",
        "my_tuple[0] = 10  # This will raise a TypeError\n"
      ],
      "metadata": {
        "id": "eTZzhEEYgt6f"
      },
      "execution_count": null,
      "outputs": []
    },
    {
      "cell_type": "code",
      "source": [
        "#16. What is a nested dictionary, and give an example of its use case?\n",
        "\n",
        "A nested dictionary in Python is a dictionary inside another dictionary. It allows hierarchical data storage, making it useful for organizing complex\n",
        "data structures.\n",
        "Imagine you are managing employee details where each employee has multiple attributes like age, department, and salary.\n",
        "\n",
        "employees = {\n",
        "    \"emp1\": {\"name\": \"Alice\", \"age\": 30, \"department\": \"HR\", \"salary\": 50000},\n",
        "    \"emp2\": {\"name\": \"Bob\", \"age\": 28, \"department\": \"IT\", \"salary\": 60000},\n",
        "    \"emp3\": {\"name\": \"Charlie\", \"age\": 35, \"department\": \"Finance\", \"salary\": 70000}\n",
        "}\n",
        "\n",
        "# Access Bob's salary\n",
        "print(employees[\"emp2\"][\"salary\"])  # Output: 60000\n",
        "\n",
        "# Updating Charlie's department\n",
        "employees[\"emp3\"][\"department\"] = \"Management\"\n",
        "\n",
        "# Adding a new employee\n",
        "employees[\"emp4\"] = {\"name\": \"David\", \"age\": 26, \"department\": \"Marketing\", \"salary\": 55000}\n",
        "\n",
        "# Printing the updated dictionary\n",
        "print(employees)\n",
        "\n",
        "When storing structured data like employee records, student data, or configurations.\n",
        "When you need a key-value hierarchy for quick lookups and updates.\n"
      ],
      "metadata": {
        "id": "1OIP_ONShLSm"
      },
      "execution_count": null,
      "outputs": []
    },
    {
      "cell_type": "code",
      "source": [
        "#17.  Describe the time complexity of accessing elements in a dictionary?\n",
        "\n",
        "In a dictionary (hash table) in Python, accessing an element by its key has an average-case time complexity of 𝑂(1). This is because dictionaries\n",
        "use a hashing mechanism, where keys are mapped to indices in an underlying array, allowing for near-instantaneous lookup.\n",
        "If the hash function distributes keys evenly, retrieving a value by key is a constant-time operation.\n",
        "\n",
        "my_dict = {'a': 1, 'b': 2, 'c': 3}\n",
        "value = my_dict['b']  # O(1)\n",
        "\n",
        "In rare cases, hash collisions can cause multiple keys to be stored in the same bucket, leading to a linear search within that bucket.\n"
      ],
      "metadata": {
        "id": "A-S7o5SLiotf"
      },
      "execution_count": null,
      "outputs": []
    },
    {
      "cell_type": "code",
      "source": [
        "#18.  In what situations are lists preferred over dictionaries?\n",
        "\n",
        "ists are preferred over dictionaries in these situations:\n",
        "\n",
        "Ordered Data – If you need to maintain the order of elements, lists are ideal because they preserve insertion order, whereas dictionaries did not.\n",
        "Sequential Access – When you need to iterate through elements in order, lists are more straightforward and efficient.\n",
        "Simple Data Storage – If you have a collection of values without needing key-value pairs, a list is sufficient.\n",
        "Index-Based Access – When you need to access elements by their position (e.g., list[0]), lists are more intuitive than dictionaries.\n",
        "Memory Efficiency – Lists generally use less memory compared to dictionaries since dictionaries store key-value mappings with additional overhead.\n",
        "Homogeneous Data – When storing similar data types (e.g., a list of numbers or strings), lists are better suited.\n",
        "Sorting & Slicing – Lists support direct sorting (sort()), slicing (list[start:end]), and other list-specific operations that are not as\n",
        "straightforward in dictionaries.\n"
      ],
      "metadata": {
        "id": "-Bi9yeAikDfB"
      },
      "execution_count": null,
      "outputs": []
    },
    {
      "cell_type": "code",
      "source": [
        "#19. Why are dictionaries considered unordered, and how does that affect data retrieval?\n",
        "\n",
        "Dictionaries in Python are considered unordered because they do not maintain the order of their elements based on insertion. Instead, they use\n",
        "hashing to store and retrieve key-value pairs efficiently.\n",
        "\n",
        "Dictionaries are unorded because of Hashing Mechanism: Python dictionaries use a hash table internally, meaning keys are mapped to memory locations\n",
        "based on their hash values.\n",
        "\n",
        "How Does This Affect Data Retrieval\n",
        "\n",
        "Efficient Lookups: You can quickly retrieve values using keys, as dictionaries are optimized for O(1) average-time complexity for retrieval.\n",
        "No Indexing: Unlike lists, dictionaries do not support indexing (dict[0] is invalid). You must access values using keys.\n"
      ],
      "metadata": {
        "id": "U_jp7MbNlJ0h"
      },
      "execution_count": null,
      "outputs": []
    },
    {
      "cell_type": "code",
      "source": [
        "#20.  Explain the difference between a list and a dictionary in terms of data retrieval.\n",
        "\n",
        "The key difference between a list and a dictionary in terms of data retrieval lies in how elements are accessed:\n",
        "\n",
        "List (Ordered, Index-Based Retrieval)-\n",
        "A list stores elements in a sequential order.\n",
        "Elements are accessed using their numerical index (e.g., my_list[2] to get the third element).\n",
        "Retrieval time is O(1) for direct index access but can be O(n) for searches if the index is unknown.\n",
        "\n",
        "Dictionary (Key-Value, Hash-Based Retrieval)-\n",
        "A dictionary stores data as key-value pairs.\n",
        "Elements are accessed using their key (e.g., my_dict[\"name\"] to get the value associated with \"name\").\n",
        "Retrieval time is typically O(1) due to hash-based lookups, making it faster for direct access compared to lists.\n",
        "\n",
        "Use lists when order matters and data is retrieved by position.\n",
        "Use dictionaries when fast lookups by a meaningful key are needed.\n"
      ],
      "metadata": {
        "id": "Ood15hp-ldso"
      },
      "execution_count": null,
      "outputs": []
    },
    {
      "cell_type": "markdown",
      "source": [
        "**Practical** **Questions**"
      ],
      "metadata": {
        "id": "Lt-ogHr8nuOH"
      }
    },
    {
      "cell_type": "code",
      "source": [
        "#1. Write a code to create a string with your name and print it?\n",
        "\n",
        "a = \"Asmita\"\n",
        "print(a)"
      ],
      "metadata": {
        "id": "5x0wMHlln1-z",
        "colab": {
          "base_uri": "https://localhost:8080/"
        },
        "outputId": "775ff723-a589-4bcd-ffa4-965a3e1f3306"
      },
      "execution_count": 1,
      "outputs": [
        {
          "output_type": "stream",
          "name": "stdout",
          "text": [
            "Asmita\n"
          ]
        }
      ]
    },
    {
      "cell_type": "code",
      "source": [
        "#2. Write a code to find the length of the string \"Hello World\"?\n",
        "\n",
        "a = \"Hello World\"\n",
        "print(len(a))"
      ],
      "metadata": {
        "colab": {
          "base_uri": "https://localhost:8080/"
        },
        "id": "D2SuDc4DAWKS",
        "outputId": "e9adfce3-5ea0-4d69-ea5a-fa6429cb7094"
      },
      "execution_count": 2,
      "outputs": [
        {
          "output_type": "stream",
          "name": "stdout",
          "text": [
            "11\n"
          ]
        }
      ]
    },
    {
      "cell_type": "code",
      "source": [
        "#3. Write a code to slice the first 3 characters from the string \"Python Programming\".\n",
        "\n",
        "a = \"Python Programming\"\n",
        "print(a[0:3])"
      ],
      "metadata": {
        "colab": {
          "base_uri": "https://localhost:8080/"
        },
        "id": "KpOngn21AdHB",
        "outputId": "e1bfec8b-fc5f-449b-fb78-c7a00987d019"
      },
      "execution_count": 3,
      "outputs": [
        {
          "output_type": "stream",
          "name": "stdout",
          "text": [
            "Pyt\n"
          ]
        }
      ]
    },
    {
      "cell_type": "code",
      "source": [
        "#4. Write a code to convert the string \"hello\" to uppercase.\n",
        "\n",
        "a = \"hello\"\n",
        "print(a.upper())"
      ],
      "metadata": {
        "colab": {
          "base_uri": "https://localhost:8080/"
        },
        "id": "k_0rpVMqAknD",
        "outputId": "9cacacdf-3f18-4991-e2a6-022cfd242d2f"
      },
      "execution_count": 5,
      "outputs": [
        {
          "output_type": "stream",
          "name": "stdout",
          "text": [
            "HELLO\n"
          ]
        }
      ]
    },
    {
      "cell_type": "code",
      "source": [
        "#5. Write a code to replace the word \"apple\" with \"orange\" in the string \"I like apple\".\n",
        "\n",
        "a = \"I like apple\"\n",
        "print(a.replace(\"apple\", \"orange\"))"
      ],
      "metadata": {
        "colab": {
          "base_uri": "https://localhost:8080/"
        },
        "id": "bmrPB75wB56s",
        "outputId": "41e88c4e-e859-419a-9096-3f34af759a95"
      },
      "execution_count": 6,
      "outputs": [
        {
          "output_type": "stream",
          "name": "stdout",
          "text": [
            "I like orange\n"
          ]
        }
      ]
    },
    {
      "cell_type": "code",
      "source": [
        "#6. Write a code to create a list with numbers 1 to 5 and print it.\n",
        "\n",
        "a = [1,2,3,4,5]\n",
        "print(a)"
      ],
      "metadata": {
        "colab": {
          "base_uri": "https://localhost:8080/"
        },
        "id": "Aleq0fS1CRKB",
        "outputId": "1428b15c-2f81-4432-ecab-85a420f8f7cd"
      },
      "execution_count": 7,
      "outputs": [
        {
          "output_type": "stream",
          "name": "stdout",
          "text": [
            "[1, 2, 3, 4, 5]\n"
          ]
        }
      ]
    },
    {
      "cell_type": "code",
      "source": [
        "#7. Write a code to append the number 10 to the list [1, 2, 3, 4].\n",
        "\n",
        "l = [1,2,3,4]\n",
        "l.append(10)\n",
        "print(l)"
      ],
      "metadata": {
        "colab": {
          "base_uri": "https://localhost:8080/"
        },
        "id": "MisO9VmjCx9N",
        "outputId": "e94d7de7-4b25-4f51-810a-f0f03d501bfe"
      },
      "execution_count": 9,
      "outputs": [
        {
          "output_type": "stream",
          "name": "stdout",
          "text": [
            "[1, 2, 3, 4, 10]\n"
          ]
        }
      ]
    },
    {
      "cell_type": "code",
      "source": [
        "#8. Write a code to remove the number 3 from the list [1, 2, 3, 4, 5].\n",
        "\n",
        "l = [1, 2, 3, 4, 5]\n",
        "l.remove(3)\n",
        "print(l)"
      ],
      "metadata": {
        "colab": {
          "base_uri": "https://localhost:8080/"
        },
        "id": "OW8s9wAYDWD4",
        "outputId": "44f5abc0-7faa-49d5-9ba3-9f65915d217e"
      },
      "execution_count": 10,
      "outputs": [
        {
          "output_type": "stream",
          "name": "stdout",
          "text": [
            "[1, 2, 4, 5]\n"
          ]
        }
      ]
    },
    {
      "cell_type": "code",
      "source": [
        "#9 Write a code to access the second element in the list ['a', 'b', 'c', 'd'].\n",
        "\n",
        "l = ['a', 'b', 'c', 'd']\n",
        "list1 = l[1]\n",
        "print(list1)"
      ],
      "metadata": {
        "colab": {
          "base_uri": "https://localhost:8080/"
        },
        "id": "dT8OqUKtDv97",
        "outputId": "5f6d0625-72f9-4446-f426-6433aea33ae0"
      },
      "execution_count": 12,
      "outputs": [
        {
          "output_type": "stream",
          "name": "stdout",
          "text": [
            "b\n"
          ]
        }
      ]
    },
    {
      "cell_type": "code",
      "source": [
        "#10. Write a code to reverse the list [10, 20, 30, 40, 50].\n",
        "\n",
        "l = [10, 20, 30, 40, 50]\n",
        "l.reverse()\n",
        "print(l)"
      ],
      "metadata": {
        "colab": {
          "base_uri": "https://localhost:8080/"
        },
        "id": "wyxwOQ5lEcG_",
        "outputId": "346508ce-97e1-4e47-a01a-e461a6354f3d"
      },
      "execution_count": 13,
      "outputs": [
        {
          "output_type": "stream",
          "name": "stdout",
          "text": [
            "[50, 40, 30, 20, 10]\n"
          ]
        }
      ]
    },
    {
      "cell_type": "code",
      "source": [
        "#11. Write a code to create a tuple with the elements 100, 200, 300 and print it.\n",
        "\n",
        "t = (100, 200, 300)\n",
        "print(t)"
      ],
      "metadata": {
        "colab": {
          "base_uri": "https://localhost:8080/"
        },
        "id": "zr7lmaYdE4kC",
        "outputId": "a9192b79-1002-4d4c-ee08-0064423d981f"
      },
      "execution_count": 14,
      "outputs": [
        {
          "output_type": "stream",
          "name": "stdout",
          "text": [
            "(100, 200, 300)\n"
          ]
        }
      ]
    },
    {
      "cell_type": "code",
      "source": [
        "#12. Write a code to access the second-to-last element of the tuple ('red', 'green', 'blue', 'yellow')?\n",
        "\n",
        "t = ('red', 'green', 'blue', 'yellow')\n",
        "print(t[1::])"
      ],
      "metadata": {
        "colab": {
          "base_uri": "https://localhost:8080/"
        },
        "id": "sBQb9fnWFTyy",
        "outputId": "2f03212d-7347-4106-e2ff-52e556167a97"
      },
      "execution_count": 16,
      "outputs": [
        {
          "output_type": "stream",
          "name": "stdout",
          "text": [
            "('green', 'blue', 'yellow')\n"
          ]
        }
      ]
    },
    {
      "cell_type": "code",
      "source": [
        "#13. Write a code to find the minimum number in the tuple (10, 20, 5, 15).\n",
        "\n",
        "t = (10, 20, 5, 15)\n",
        "print(min(t))"
      ],
      "metadata": {
        "colab": {
          "base_uri": "https://localhost:8080/"
        },
        "id": "PtBhkCFAFlqa",
        "outputId": "486e536a-831d-4f8a-f8cf-ea6cd873bee4"
      },
      "execution_count": 17,
      "outputs": [
        {
          "output_type": "stream",
          "name": "stdout",
          "text": [
            "5\n"
          ]
        }
      ]
    },
    {
      "cell_type": "code",
      "source": [
        "#14. Write a code to find the index of the element \"cat\" in the tuple ('dog', 'cat', 'rabbit')?\n",
        "\n",
        "t = ('dog', 'cat', 'rabbit')\n",
        "T1 = t.index('cat')\n",
        "print(T1)"
      ],
      "metadata": {
        "colab": {
          "base_uri": "https://localhost:8080/"
        },
        "id": "afOgCIRCFz0R",
        "outputId": "8686c055-6b0c-4c6e-e0c7-6084cc9e2069"
      },
      "execution_count": 19,
      "outputs": [
        {
          "output_type": "stream",
          "name": "stdout",
          "text": [
            "1\n"
          ]
        }
      ]
    },
    {
      "cell_type": "code",
      "source": [
        "#15.  Write a code to create a tuple containing three different fruits and check if \"kiwi\" is in it?\n",
        "\n",
        "fruits = ('apple', 'banana', 'kiwi')\n",
        "if 'kiwi' in fruits:\n",
        "  print(\"kiwi is in the tuple\")\n",
        "else:\n",
        "  print(\"kiwi is not in the tuple\")"
      ],
      "metadata": {
        "colab": {
          "base_uri": "https://localhost:8080/"
        },
        "id": "7O0UifGbGvev",
        "outputId": "183cf3fc-7be0-4b90-949e-a2a9dfe4aa9c"
      },
      "execution_count": 23,
      "outputs": [
        {
          "output_type": "stream",
          "name": "stdout",
          "text": [
            "kiwi is in the tuple\n"
          ]
        }
      ]
    },
    {
      "cell_type": "code",
      "source": [
        "#16.  Write a code to create a set with the elements 'a', 'b', 'c' and print it.\n",
        "\n",
        "s = {'a', 'b', 'c'}\n",
        "print(s)"
      ],
      "metadata": {
        "colab": {
          "base_uri": "https://localhost:8080/"
        },
        "id": "ThBJzfxjHtl6",
        "outputId": "fffe5761-22d6-475b-cd19-827f74b86f01"
      },
      "execution_count": 24,
      "outputs": [
        {
          "output_type": "stream",
          "name": "stdout",
          "text": [
            "{'a', 'b', 'c'}\n"
          ]
        }
      ]
    },
    {
      "cell_type": "code",
      "source": [
        "#17. Write a code to clear all elements from the set {1, 2, 3, 4, 5}.\n",
        "\n",
        "s = {1, 2, 3, 4, 5}\n",
        "s.clear()\n",
        "print(s)"
      ],
      "metadata": {
        "colab": {
          "base_uri": "https://localhost:8080/"
        },
        "id": "-NP78Xa7H8BW",
        "outputId": "92f9a9a0-d61b-418e-d797-3272b7e08b64"
      },
      "execution_count": 25,
      "outputs": [
        {
          "output_type": "stream",
          "name": "stdout",
          "text": [
            "set()\n"
          ]
        }
      ]
    },
    {
      "cell_type": "code",
      "source": [
        "#18. Write a code to remove the element 4 from the set {1, 2, 3, 4}.\n",
        "\n",
        "s = {1, 2, 3, 4}\n",
        "s.remove(4)\n",
        "print(s)"
      ],
      "metadata": {
        "colab": {
          "base_uri": "https://localhost:8080/"
        },
        "id": "QDVyaqgpIGhv",
        "outputId": "67752d8c-fd03-45a5-f10f-95b0f0cac93c"
      },
      "execution_count": 26,
      "outputs": [
        {
          "output_type": "stream",
          "name": "stdout",
          "text": [
            "{1, 2, 3}\n"
          ]
        }
      ]
    },
    {
      "cell_type": "code",
      "source": [
        "#19. Write a code to find the union of two sets {1, 2, 3} and {3, 4, 5}?\n",
        "\n",
        "S1 = {1,2,3}\n",
        "S2 = {3,4,5}\n",
        "\n",
        "S1 | S2"
      ],
      "metadata": {
        "colab": {
          "base_uri": "https://localhost:8080/"
        },
        "id": "lVZfmLFcIPV1",
        "outputId": "f2688dd9-c702-416b-e874-2f169cc737a6"
      },
      "execution_count": 27,
      "outputs": [
        {
          "output_type": "execute_result",
          "data": {
            "text/plain": [
              "{1, 2, 3, 4, 5}"
            ]
          },
          "metadata": {},
          "execution_count": 27
        }
      ]
    },
    {
      "cell_type": "code",
      "source": [
        "#20. Write a code to find the intersection of two sets {1, 2, 3} and {2, 3, 4}.\n",
        "\n",
        "S1 = {1,2,3}\n",
        "S2 = {2,3,4}\n",
        "\n",
        "S1 & S2"
      ],
      "metadata": {
        "colab": {
          "base_uri": "https://localhost:8080/"
        },
        "id": "gNpXBLcTJE-P",
        "outputId": "08276c1b-252e-4e06-c327-c6f1a5111478"
      },
      "execution_count": 28,
      "outputs": [
        {
          "output_type": "execute_result",
          "data": {
            "text/plain": [
              "{2, 3}"
            ]
          },
          "metadata": {},
          "execution_count": 28
        }
      ]
    },
    {
      "cell_type": "code",
      "source": [
        "#21. Write a code to create a dictionary with the keys \"name\", \"age\", and \"city\", and print it.\n",
        "\n",
        "dict1 = {\"name\": \"Asmita\", \"age\": 23, \"city\": \"Bengaluru\"}\n",
        "print(dict1)"
      ],
      "metadata": {
        "colab": {
          "base_uri": "https://localhost:8080/"
        },
        "id": "NH-BSJPtJq3o",
        "outputId": "267aecc3-2f0a-49fb-b7e4-a846cd64b1d4"
      },
      "execution_count": 29,
      "outputs": [
        {
          "output_type": "stream",
          "name": "stdout",
          "text": [
            "{'name': 'Asmita', 'age': 23, 'city': 'Bengaluru'}\n"
          ]
        }
      ]
    },
    {
      "cell_type": "code",
      "source": [
        "#22. Write a code to add a new key-value pair \"country\": \"USA\" to the dictionary {'name': 'John', 'age': 25}.\n",
        "\n",
        "dict1 = {'name': 'John', 'age': 25}\n",
        "dict1['country'] = 'USA'\n",
        "print(dict1)\n"
      ],
      "metadata": {
        "colab": {
          "base_uri": "https://localhost:8080/"
        },
        "id": "DaV-eygYKLUc",
        "outputId": "cdf13550-da8a-4d04-84f2-ba448bd31bac"
      },
      "execution_count": 30,
      "outputs": [
        {
          "output_type": "stream",
          "name": "stdout",
          "text": [
            "{'name': 'John', 'age': 25, 'country': 'USA'}\n"
          ]
        }
      ]
    },
    {
      "cell_type": "code",
      "source": [
        "#23. Write a code to access the value associated with the key \"name\" in the dictionary {'name': 'Alice', 'age': 30}.\n",
        "\n",
        "dict1 = {'name': 'Alice', 'age': 30}\n",
        "print(dict1['name'])"
      ],
      "metadata": {
        "colab": {
          "base_uri": "https://localhost:8080/"
        },
        "id": "-1hPTki7KeKF",
        "outputId": "43802106-142d-4bcd-bc0b-d19ba10a0353"
      },
      "execution_count": 31,
      "outputs": [
        {
          "output_type": "stream",
          "name": "stdout",
          "text": [
            "Alice\n"
          ]
        }
      ]
    },
    {
      "cell_type": "code",
      "source": [
        "#24. Write a code to remove the key \"age\" from the dictionary {'name': 'Bob', 'age': 22, 'city': 'New York'}.\n",
        "\n",
        "dict1 = {'name': 'Bob', 'age': 22, 'city': 'New York'}\n",
        "del dict1['age']\n",
        "print(dict1)"
      ],
      "metadata": {
        "colab": {
          "base_uri": "https://localhost:8080/"
        },
        "id": "kDg_lGyJKqT-",
        "outputId": "1c1cff21-62d5-4257-f187-b1229f83e7c2"
      },
      "execution_count": 32,
      "outputs": [
        {
          "output_type": "stream",
          "name": "stdout",
          "text": [
            "{'name': 'Bob', 'city': 'New York'}\n"
          ]
        }
      ]
    },
    {
      "cell_type": "code",
      "source": [
        "#25. Write a code to check if the key \"city\" exists in the dictionary {'name': 'Alice', 'city': 'Paris'}.\n",
        "\n",
        "dict1 = {'name': 'Alice', 'city': 'Paris'}\n",
        "if 'city' in dict1:\n",
        "  print(\"city is in the dictionary\")\n",
        "else:\n",
        "  print(\"city is not in the dictionary\")"
      ],
      "metadata": {
        "colab": {
          "base_uri": "https://localhost:8080/"
        },
        "id": "KP15yTRhK2X2",
        "outputId": "f29e4a27-c683-44d5-acb5-7dc965f8e58c"
      },
      "execution_count": 33,
      "outputs": [
        {
          "output_type": "stream",
          "name": "stdout",
          "text": [
            "city is in the dictionary\n"
          ]
        }
      ]
    },
    {
      "cell_type": "code",
      "source": [
        "#26. Write a code to create a list, a tuple, and a dictionary, and print them all.\n",
        "\n",
        "list1 = [1,2,3,4]\n",
        "print(list1)\n",
        "\n",
        "tuple1 = (1,2,3,4)\n",
        "print(tuple1)\n",
        "\n",
        "dict1 = {\"name\": \"Asmita\", \"age\": 23, \"city\": \"Bengaluru\"}\n",
        "print(dict1)"
      ],
      "metadata": {
        "colab": {
          "base_uri": "https://localhost:8080/"
        },
        "id": "sAp1WGQYLAci",
        "outputId": "5c68bf2d-0754-4dc5-876a-c59059f3cb65"
      },
      "execution_count": 34,
      "outputs": [
        {
          "output_type": "stream",
          "name": "stdout",
          "text": [
            "[1, 2, 3, 4]\n",
            "(1, 2, 3, 4)\n",
            "{'name': 'Asmita', 'age': 23, 'city': 'Bengaluru'}\n"
          ]
        }
      ]
    },
    {
      "cell_type": "code",
      "source": [
        "#27. Write a code to create a list of 5 random numbers between 1 and 100, sort it in ascending order, and print the result.(replaced)\n",
        "\n",
        "l = [23, 45, 12, 78, 90]\n",
        "l.sort()\n",
        "print(l)"
      ],
      "metadata": {
        "colab": {
          "base_uri": "https://localhost:8080/"
        },
        "id": "R1UnFcT7LXBd",
        "outputId": "60259740-4a24-49a2-b14f-d9dcc028840a"
      },
      "execution_count": 35,
      "outputs": [
        {
          "output_type": "stream",
          "name": "stdout",
          "text": [
            "[12, 23, 45, 78, 90]\n"
          ]
        }
      ]
    },
    {
      "cell_type": "code",
      "source": [
        "#28.  Write a code to create a list with strings and print the element at the third index.\n",
        "\n",
        "list1 = ['Rose' , 'Apple' ,'Ajay', 'Date', 'cherry']\n",
        "print(list1[3])\n"
      ],
      "metadata": {
        "colab": {
          "base_uri": "https://localhost:8080/"
        },
        "id": "-aVk-RAEMGIx",
        "outputId": "03de0677-b05b-4815-d429-b91233e360b5"
      },
      "execution_count": 37,
      "outputs": [
        {
          "output_type": "stream",
          "name": "stdout",
          "text": [
            "Date\n"
          ]
        }
      ]
    },
    {
      "cell_type": "code",
      "source": [
        "#29. Write a code to combine two dictionaries into one and print the result.\n",
        "\n",
        "dict1 = {'name': 'Alice', 'city': 'Paris'}\n",
        "dict2 = {'name': 'Bob', 'city': 'New York'}\n",
        "\n",
        "combined_dict = dict1.copy()\n",
        "combined_dict.update(dict2)\n",
        "\n",
        "print(\"Combined Dictionary:\", combined_dict)"
      ],
      "metadata": {
        "colab": {
          "base_uri": "https://localhost:8080/"
        },
        "id": "24CpxeagNHJE",
        "outputId": "2f3a3aa6-4597-4959-af48-2c5bb7456a73"
      },
      "execution_count": 38,
      "outputs": [
        {
          "output_type": "stream",
          "name": "stdout",
          "text": [
            "Combined Dictionary: {'name': 'Bob', 'city': 'New York'}\n"
          ]
        }
      ]
    },
    {
      "cell_type": "code",
      "source": [
        "#30. Write a code to convert a list of strings into a set.\n",
        "\n",
        "l = [\"apple\", \"banana\", \"cherry\", \"apple\", \"banana\"]\n",
        "\n",
        "my_set = set(l)\n",
        "\n",
        "print(my_set)"
      ],
      "metadata": {
        "colab": {
          "base_uri": "https://localhost:8080/"
        },
        "id": "8KuPcJ3PPkbE",
        "outputId": "becdfef0-ee17-4328-c784-37a3b6b83f45"
      },
      "execution_count": 40,
      "outputs": [
        {
          "output_type": "stream",
          "name": "stdout",
          "text": [
            "{'apple', 'cherry', 'banana'}\n"
          ]
        }
      ]
    }
  ]
}